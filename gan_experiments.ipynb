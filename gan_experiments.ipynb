{
  "nbformat": 4,
  "nbformat_minor": 0,
  "metadata": {
    "accelerator": "GPU",
    "colab": {
      "name": "dl_hw3.ipynb",
      "provenance": [],
      "collapsed_sections": [],
      "toc_visible": true
    },
    "kernelspec": {
      "display_name": "Python 3",
      "language": "python",
      "name": "python3"
    },
    "language_info": {
      "codemirror_mode": {
        "name": "ipython",
        "version": 3
      },
      "file_extension": ".py",
      "mimetype": "text/x-python",
      "name": "python",
      "nbconvert_exporter": "python",
      "pygments_lexer": "ipython3",
      "version": "3.7.4"
    },
    "widgets": {
      "application/vnd.jupyter.widget-state+json": {
        "60516ea765fb425583b31ddd9c08fe30": {
          "model_module": "@jupyter-widgets/controls",
          "model_name": "HBoxModel",
          "state": {
            "_view_name": "HBoxView",
            "_dom_classes": [],
            "_model_name": "HBoxModel",
            "_view_module": "@jupyter-widgets/controls",
            "_model_module_version": "1.5.0",
            "_view_count": null,
            "_view_module_version": "1.5.0",
            "box_style": "",
            "layout": "IPY_MODEL_f1eb7b7710b448b680bed96953a1e22e",
            "_model_module": "@jupyter-widgets/controls",
            "children": [
              "IPY_MODEL_6d91553830144c59a23502a5482d798b",
              "IPY_MODEL_7c375c5904ca4c509f02c18157c62542"
            ]
          }
        },
        "f1eb7b7710b448b680bed96953a1e22e": {
          "model_module": "@jupyter-widgets/base",
          "model_name": "LayoutModel",
          "state": {
            "_view_name": "LayoutView",
            "grid_template_rows": null,
            "right": null,
            "justify_content": null,
            "_view_module": "@jupyter-widgets/base",
            "overflow": null,
            "_model_module_version": "1.2.0",
            "_view_count": null,
            "flex_flow": null,
            "width": null,
            "min_width": null,
            "border": null,
            "align_items": null,
            "bottom": null,
            "_model_module": "@jupyter-widgets/base",
            "top": null,
            "grid_column": null,
            "overflow_y": null,
            "overflow_x": null,
            "grid_auto_flow": null,
            "grid_area": null,
            "grid_template_columns": null,
            "flex": null,
            "_model_name": "LayoutModel",
            "justify_items": null,
            "grid_row": null,
            "max_height": null,
            "align_content": null,
            "visibility": null,
            "align_self": null,
            "height": null,
            "min_height": null,
            "padding": null,
            "grid_auto_rows": null,
            "grid_gap": null,
            "max_width": null,
            "order": null,
            "_view_module_version": "1.2.0",
            "grid_template_areas": null,
            "object_position": null,
            "object_fit": null,
            "grid_auto_columns": null,
            "margin": null,
            "display": null,
            "left": null
          }
        },
        "6d91553830144c59a23502a5482d798b": {
          "model_module": "@jupyter-widgets/controls",
          "model_name": "FloatProgressModel",
          "state": {
            "_view_name": "ProgressView",
            "style": "IPY_MODEL_cfae4890c0114ea3bd33a8d571af5cac",
            "_dom_classes": [],
            "description": "  0%",
            "_model_name": "FloatProgressModel",
            "bar_style": "",
            "max": 100,
            "_view_module": "@jupyter-widgets/controls",
            "_model_module_version": "1.5.0",
            "value": 0,
            "_view_count": null,
            "_view_module_version": "1.5.0",
            "orientation": "horizontal",
            "min": 0,
            "description_tooltip": null,
            "_model_module": "@jupyter-widgets/controls",
            "layout": "IPY_MODEL_c02ab5dee090434cb568c67e59df095b"
          }
        },
        "7c375c5904ca4c509f02c18157c62542": {
          "model_module": "@jupyter-widgets/controls",
          "model_name": "HTMLModel",
          "state": {
            "_view_name": "HTMLView",
            "style": "IPY_MODEL_43c36b0841114bf29df32d9928cac239",
            "_dom_classes": [],
            "description": "",
            "_model_name": "HTMLModel",
            "placeholder": "​",
            "_view_module": "@jupyter-widgets/controls",
            "_model_module_version": "1.5.0",
            "value": " 0/100 [00:00&lt;?, ?it/s]",
            "_view_count": null,
            "_view_module_version": "1.5.0",
            "description_tooltip": null,
            "_model_module": "@jupyter-widgets/controls",
            "layout": "IPY_MODEL_abe725b8fcfd459d948b31d30ef6ee39"
          }
        },
        "cfae4890c0114ea3bd33a8d571af5cac": {
          "model_module": "@jupyter-widgets/controls",
          "model_name": "ProgressStyleModel",
          "state": {
            "_view_name": "StyleView",
            "_model_name": "ProgressStyleModel",
            "description_width": "initial",
            "_view_module": "@jupyter-widgets/base",
            "_model_module_version": "1.5.0",
            "_view_count": null,
            "_view_module_version": "1.2.0",
            "bar_color": null,
            "_model_module": "@jupyter-widgets/controls"
          }
        },
        "c02ab5dee090434cb568c67e59df095b": {
          "model_module": "@jupyter-widgets/base",
          "model_name": "LayoutModel",
          "state": {
            "_view_name": "LayoutView",
            "grid_template_rows": null,
            "right": null,
            "justify_content": null,
            "_view_module": "@jupyter-widgets/base",
            "overflow": null,
            "_model_module_version": "1.2.0",
            "_view_count": null,
            "flex_flow": null,
            "width": null,
            "min_width": null,
            "border": null,
            "align_items": null,
            "bottom": null,
            "_model_module": "@jupyter-widgets/base",
            "top": null,
            "grid_column": null,
            "overflow_y": null,
            "overflow_x": null,
            "grid_auto_flow": null,
            "grid_area": null,
            "grid_template_columns": null,
            "flex": null,
            "_model_name": "LayoutModel",
            "justify_items": null,
            "grid_row": null,
            "max_height": null,
            "align_content": null,
            "visibility": null,
            "align_self": null,
            "height": null,
            "min_height": null,
            "padding": null,
            "grid_auto_rows": null,
            "grid_gap": null,
            "max_width": null,
            "order": null,
            "_view_module_version": "1.2.0",
            "grid_template_areas": null,
            "object_position": null,
            "object_fit": null,
            "grid_auto_columns": null,
            "margin": null,
            "display": null,
            "left": null
          }
        },
        "43c36b0841114bf29df32d9928cac239": {
          "model_module": "@jupyter-widgets/controls",
          "model_name": "DescriptionStyleModel",
          "state": {
            "_view_name": "StyleView",
            "_model_name": "DescriptionStyleModel",
            "description_width": "",
            "_view_module": "@jupyter-widgets/base",
            "_model_module_version": "1.5.0",
            "_view_count": null,
            "_view_module_version": "1.2.0",
            "_model_module": "@jupyter-widgets/controls"
          }
        },
        "abe725b8fcfd459d948b31d30ef6ee39": {
          "model_module": "@jupyter-widgets/base",
          "model_name": "LayoutModel",
          "state": {
            "_view_name": "LayoutView",
            "grid_template_rows": null,
            "right": null,
            "justify_content": null,
            "_view_module": "@jupyter-widgets/base",
            "overflow": null,
            "_model_module_version": "1.2.0",
            "_view_count": null,
            "flex_flow": null,
            "width": null,
            "min_width": null,
            "border": null,
            "align_items": null,
            "bottom": null,
            "_model_module": "@jupyter-widgets/base",
            "top": null,
            "grid_column": null,
            "overflow_y": null,
            "overflow_x": null,
            "grid_auto_flow": null,
            "grid_area": null,
            "grid_template_columns": null,
            "flex": null,
            "_model_name": "LayoutModel",
            "justify_items": null,
            "grid_row": null,
            "max_height": null,
            "align_content": null,
            "visibility": null,
            "align_self": null,
            "height": null,
            "min_height": null,
            "padding": null,
            "grid_auto_rows": null,
            "grid_gap": null,
            "max_width": null,
            "order": null,
            "_view_module_version": "1.2.0",
            "grid_template_areas": null,
            "object_position": null,
            "object_fit": null,
            "grid_auto_columns": null,
            "margin": null,
            "display": null,
            "left": null
          }
        }
      }
    }
  },
  "cells": [
    {
      "cell_type": "markdown",
      "metadata": {
        "id": "QXOqycfEZx6Q"
      },
      "source": [
        "# Part 4. Generative Adversarial Networks (GANs) — 15 points\n",
        "\n",
        "## Links\n",
        "\n",
        "- https://en.wikipedia.org/wiki/Generative_adversarial_network\n",
        "- https://towardsdatascience.com/understanding-generative-adversarial-networks-gans-cd6e4651a29\n",
        "\n",
        "## Theory\n",
        "\n",
        "### Intro\n",
        "\n",
        "Now we will consider another implicit generative model.\n",
        "\n",
        "Implicit models (in contrary to explicit VAE), do not provide a direct access to the modeled data distribution $p(x)$, but only allow to sample from it.\n",
        "\n",
        "Though this may be an advantage rather than a disadvantage. Most of the explicit models have to make assumptions about the shape of the data distribution. For example, in VAEs the assumption is that each image comes from a normal distribution, with each pixel being _independent_ of each other. Needless to say, this model is far from being ideal for modelling the natural images, because we all know that pixels in the image strongly depend not only on their neighbours, but sometimes on the global context as well.\n",
        "\n",
        "<img src=\"https://bit.ly/3567LM6\" width=320px>\n",
        "\n",
        "This is why it is hard for us to believe that the image above is real, even though all local patches are perfectly real :)\n",
        "\n",
        "### Method description\n",
        "\n",
        "In order to overcome limitations of tracktable families of probabilistic models, we have to go intractable. Currently, Generative Adversarial Networks is the most successful example of such models.\n",
        "\n",
        "__Key idea__ of GANs is the use of a loss function that is trained from the data.\n",
        "\n",
        "A good analogy is a counterfeiter vs a cop example:\n",
        "\n",
        "<img src=\"https://www.cfml.se/img/blog/generative_adversarial_networks/counterfeiter_vs_cop.jpg\" width=640px>\n",
        "\n",
        "A counterfeiter is a \"generator\" neural network that is being trained to produce realistic data points (not neccessarily images). A cop is a \"discriminator\" neural network trained to recognize fake data points. The counterfeiter gets constant updates from the cop via a gradient flow (backpropagation) and tries to maximize the realism score a cop is assigning to fake data points. The cop receives the feedback via the update of the available dataset, and tries to maximize the recognition accuracy.\n",
        "\n",
        "If we denote $G$ as a generator, with $\\hat{x}$ being its output, $D$ as a discriminator and $\\mathcal{L}(s, \\hat{s})$ as a classification function (with $s$ denoting class scores) the cop would want to minimize (say, binary cross entropy), then the objective can be written as a zero-sum game (since a classification function is typically symmetric w.r.t. classes): \n",
        "\n",
        "$$\n",
        "    \\max_G \\min_D \\mathcal{L} \\big( D(x), D(\\hat{x}) \\big).\n",
        "$$\n",
        "\n",
        "In practice, however, for numerous reasons it is useful to separate this single objective into two, leading to a potentially non-zero sum game:\n",
        "\n",
        "$$\n",
        "    \\max_G \\min_D \\mathcal{L}_G \\big( D(x), D(\\hat{x}) \\big) + \\mathcal{L}_D ( D(x), D(\\hat{x}) \\big),\n",
        "$$\n",
        "\n",
        "with gradients from the objective $\\mathcal{L}_G$ being back-propagated only into the generator, and $\\mathcal{L}_D$ — only into the discriminator.\n",
        "\n",
        "### Training stability\n",
        "\n",
        "The objective above is typically optimized via an alternating stochastic gradient descend technique: i.e., we first do an optimization step w.r.t. one network, and then use updated weights to perform a step w.r.t. another network. Although this technique has convergence issues [1], it is still widely used for its simplicity and memory efficiency.\n",
        "\n",
        "Also, although GANs used to be notoriously hard to train, a number of techniques [2, 3] have been developed to overcome the difficulties.\n",
        "\n",
        "Still, when we are talking about GANs, it is incorrect to use a term \"convergence\", because even with the aforementioned techniques, the optimization process does not converge to a state when the loss of the generator converges to zero. On contrary, it is a __red flag__ indicating a __training instability__ if this loss converges to zero. In practice, this means that the generator is fooling the discriminator with garbage.\n",
        "\n",
        "Ideal training curves look like that:\n",
        "\n",
        "<img src=\"https://i.ibb.co/0csVDhH/gans-training-curves.png\" alt=\"source: https://deepai.org/publication/geogan-a-conditional-gan-with-reconstruction-and-style-loss-to-generate-standard-layer-of-maps-from-satellite-images\" width=640px>\n",
        "\n",
        "Bad training curves look like that:\n",
        "\n",
        "<img src=\"https://miro.medium.com/max/2732/1*4A5bo8gVG9wmg-5wtqavOg.png\" width=640px>\n",
        "\n",
        "The weights of both the generator and discriminator keep constantly updating during training, resulting in a typical oscilation behavior [1].\n",
        "\n",
        "Usually ideal training curves end up like the bad ones if you train long enough — all you can do is taking a checkpoint right before the training collapses (you can see this point clearly on the second plot). If the training process was stable, this collapse happends long after the results have stopped improving, though some models still struggle to obtain stable enough behavior for data with high dimensionality [4].\n",
        "\n",
        "## Task\n",
        "\n",
        "Implement and train a generative adversarial network using the provided dataset in 3 variants:\n",
        "\n",
        "1. with a spectral normalization,\n",
        "2. with a gradient penalty,\n",
        "3. without any regularization.\n",
        "\n",
        "Also try turning on and off batch normalization in the generator network for all approaches. Note that spectral normalization and batch normalization can be used simultaneously, since SN is only applied to linear and convolutional layers.\n",
        "\n",
        "Visualize the resulting learning curves for all approaches and provide a side-by-side comparison for a small (~10 items) subset of samples for each method. Your learning curves should look similar to the \"ideal\" curves above.\n",
        "\n",
        "## Notes\n",
        "\n",
        "- Use Adam optimizer with $\\beta_1 = 0$ for both the generator and the discriminator.\n",
        "- Start with the learning rate equal to $1 \\cdot 10^{-4}$ for both networks. Increase the learning rate by a factor of 4 for the discriminator, when using spectral normalization.\n",
        "- Use PyTorch implementation of spectral normalization (__torch.nn.utils.SpectralNorm__). Implement a gradient penalty by hand using the following equations and __torch.autograd.grad__ (pass discriminator outputs to _outputs_, inputs to _inputs_, and ones to grad_outputs, set _retain_graph_ to True):\n",
        "\n",
        "\n",
        "$$\n",
        "    \\mathcal{L}_\\text{GP} = 10 \\cdot \\mathbb{E}_{x \\sim p(x)} (||\\nabla_x D(x)||_2 - 1)^2\n",
        "$$\n",
        "\n",
        "- Use hinge loss for training, but feel free to experiment with other losses as well for bonus points.\n",
        "\n",
        "\\begin{aligned}\n",
        "    & \\mathcal{L}_D = \\mathbb{E}_{x \\sim p(x)}\\, \\text{max}\\big( 0, 1 - D(x) \\big) + \\mathbb{E}_{z \\sim p(z)}\\, \\text{max}\\big( 0, 1 + D(G(z)) \\big) \\\\\n",
        "    & \\mathcal{L}_G = - \\mathbb{E}_{z \\sim p(z)}\\, D(G(z))\n",
        "\\end{aligned}\n",
        "\n",
        "## References\n",
        "\n",
        "[1] Mescheder et. al., \"Which Training Methods for GANs do actually Converge?\", ICML 2018, https://arxiv.org/abs/1801.04406\n",
        "\n",
        "[2] Miyato et. al., \"Spectral Normalization for Generative Adversarial Networks\", ICLR 2018, https://arxiv.org/abs/1802.05957\n",
        "\n",
        "[3] Gulrajani et. al., \"Improved Training of Wasserstein GANs\", NeurIPS 2017, https://arxiv.org/abs/1704.00028\n",
        "\n",
        "[4] Brock et. al., \"Large Scale GAN Training for High Fidelity Natural Image Synthesis\", ICLR 2018, https://arxiv.org/abs/1809.11096"
      ]
    },
    {
      "cell_type": "code",
      "metadata": {
        "id": "B2MDury9Z_02"
      },
      "source": [
        "#@title Utility functions\n",
        "import numpy as np\n",
        "import os\n",
        "import skimage.io\n",
        "import skimage\n",
        "import skimage.transform\n",
        "import pandas as pd\n",
        "\n",
        "def fetch_lfw_dataset(attrs_name = \"lfw_attributes.txt\",\n",
        "                      images_name = \"lfw-deepfunneled\",\n",
        "                      raw_images_name = \"lfw\",\n",
        "                      use_raw=False,\n",
        "                      dx=80,dy=80,\n",
        "                      dimx=45,dimy=45\n",
        "    ): # sad smile\n",
        "\n",
        "    #download if not exists\n",
        "    if (not use_raw) and not os.path.exists(images_name):\n",
        "        print(\"images not found, donwloading...\")\n",
        "        os.system(\"wget http://vis-www.cs.umass.edu/lfw/lfw-deepfunneled.tgz -O tmp.tgz\")\n",
        "        print(\"extracting...\")\n",
        "        os.system(\"tar xvzf tmp.tgz && rm tmp.tgz\")\n",
        "        print(\"done\")\n",
        "        assert os.path.exists(images_name)\n",
        "    \n",
        "    if use_raw and not os.path.exists(raw_images_name):\n",
        "        print(\"images not found, donwloading...\")\n",
        "        os.system(\"wget http://vis-www.cs.umass.edu/lfw/lfw.tgz -O tmp.tgz\")\n",
        "        print(\"extracting...\")\n",
        "        os.system(\"tar xvzf tmp.tgz && rm tmp.tgz\")\n",
        "        print(\"done\")\n",
        "        assert os.path.exists(raw_images_name)\n",
        "\n",
        "    if not os.path.exists(attrs_name):\n",
        "        print(\"attributes not found, downloading...\")\n",
        "        os.system(\"wget http://www.cs.columbia.edu/CAVE/databases/pubfig/download/%s\" % attrs_name)\n",
        "        print(\"done\")\n",
        "\n",
        "    #read attrs\n",
        "    df_attrs = pd.read_csv(\"lfw_attributes.txt\",sep='\\t',skiprows=1,) \n",
        "    df_attrs = pd.DataFrame(df_attrs.iloc[:,:-1].values, columns = df_attrs.columns[1:])\n",
        "\n",
        "\n",
        "    #read photos\n",
        "    dirname = raw_images_name if use_raw else images_name\n",
        "    photo_ids = []\n",
        "    for dirpath, dirnames, filenames in os.walk(dirname):\n",
        "        for fname in filenames:\n",
        "            if fname.endswith(\".jpg\"):\n",
        "                fpath = os.path.join(dirpath,fname)\n",
        "                photo_id = fname[:-4].replace('_',' ').split()\n",
        "                person_id = ' '.join(photo_id[:-1])\n",
        "                photo_number = int(photo_id[-1])\n",
        "                photo_ids.append({'person':person_id,'imagenum':photo_number,'photo_path':fpath})\n",
        "\n",
        "    photo_ids = pd.DataFrame(photo_ids)\n",
        "\n",
        "    #mass-merge\n",
        "    #(photos now have same order as attributes)\n",
        "    df_attrs['imagenum'] = df_attrs['imagenum'].astype(np.int64)\n",
        "    df = pd.merge(df_attrs, photo_ids, on=('person','imagenum'))\n",
        "\n",
        "    assert len(df)==len(df_attrs),\"lost some data when merging dataframes\"\n",
        "\n",
        "    #image preprocessing\n",
        "    all_photos = df['photo_path'].apply(lambda img: skimage.io.imread(img))\\\n",
        "                                 .apply(lambda img:img[dy:-dy,dx:-dx])\\\n",
        "                                 .apply(lambda img: skimage.img_as_ubyte(skimage.transform.resize(img,[dimx,dimy])))\n",
        "\n",
        "    all_photos = np.stack(all_photos.values).astype('uint8')\n",
        "    all_attrs = df.drop([\"photo_path\",\"person\",\"imagenum\"],axis=1)\n",
        "    \n",
        "    return all_photos,all_attrs"
      ],
      "execution_count": 1,
      "outputs": []
    },
    {
      "cell_type": "code",
      "metadata": {
        "colab": {
          "base_uri": "https://localhost:8080/",
          "height": 283
        },
        "id": "bLntnSQXZx6Q",
        "outputId": "7cf7dc0e-4a3f-4c6a-b2b5-2d1b7e8c6563"
      },
      "source": [
        "import matplotlib.pyplot as plt\n",
        "%matplotlib inline\n",
        "import numpy as np\n",
        "plt.rcParams.update({'axes.titlesize': 'small'})\n",
        "\n",
        "# The following line fetches you two datasets: images, usable for autoencoder training and attributes.\n",
        "# Those attributes will be required for the final part of the assignment (applying smiles), so please keep them in mind\n",
        "data,attrs = fetch_lfw_dataset(dimx=32, dimy=32)\n",
        "\n",
        "# Preprocess faces\n",
        "data = np.float32(data).transpose([0, 3, 1, 2]) / 127.5 - 1.0\n",
        "\n",
        "IMG_SHAPE = data.shape[1:]\n",
        "\n",
        "# Print random image\n",
        "plt.imshow(((data[np.random.randint(data.shape[0])] + 1) / 2.0).transpose([1, 2, 0]),\n",
        "           cmap=\"gray\", interpolation=\"none\")"
      ],
      "execution_count": 2,
      "outputs": [
        {
          "output_type": "execute_result",
          "data": {
            "text/plain": [
              "<matplotlib.image.AxesImage at 0x7fcb86151780>"
            ]
          },
          "metadata": {
            "tags": []
          },
          "execution_count": 2
        },
        {
          "output_type": "display_data",
          "data": {
            "image/png": "[encoded data removed]",
            "text/plain": [
              "<Figure size 432x288 with 1 Axes>"
            ]
          },
          "metadata": {
            "tags": [],
            "needs_background": "light"
          }
        }
      ]
    },
    {
      "cell_type": "code",
      "metadata": {
        "colab": {
          "base_uri": "https://localhost:8080/"
        },
        "id": "Sv4dnwY0Zx6S",
        "outputId": "2d00fb63-00bd-4459-adf6-9cc048811081"
      },
      "source": [
        "import torch, torch.nn as nn\n",
        "import torch.nn.functional as F\n",
        "\n",
        "use_cuda = torch.cuda.is_available()\n",
        "\n",
        "print(\"Torch version:\", torch.__version__)\n",
        "if use_cuda:\n",
        "    print(\"Using GPU\")\n",
        "else:\n",
        "    print(\"Not using GPU\")"
      ],
      "execution_count": 3,
      "outputs": [
        {
          "output_type": "stream",
          "text": [
            "Torch version: 1.7.0+cu101\n",
            "Using GPU\n"
          ],
          "name": "stdout"
        }
      ]
    },
    {
      "cell_type": "code",
      "metadata": {
        "id": "p8qduephZx6T"
      },
      "source": [
        "def sample_noise_batch(batch_size):\n",
        "    noise = torch.randn(batch_size, CODE_SIZE)\n",
        "    return noise.cuda() if use_cuda else noise.cpu()\n",
        "    \n",
        "class Reshape(nn.Module):\n",
        "    def __init__(self, shape):\n",
        "        nn.Module.__init__(self)\n",
        "        self.shape=shape\n",
        "    def forward(self,input):\n",
        "        return input.view(self.shape)"
      ],
      "execution_count": 4,
      "outputs": []
    },
    {
      "cell_type": "markdown",
      "metadata": {
        "id": "tMJPjpxJzQu2"
      },
      "source": [
        "### Generator\n",
        "\n",
        "Example generator architecture is provided below: use it as a reference for you architectures, but feel free to experiment. If your experiments are shown to improve over baseline performance, you will be rewarded with bonus points.\n",
        "\n",
        "In our realization, please insert batch normalization before nonlinearities."
      ]
    },
    {
      "cell_type": "code",
      "metadata": {
        "id": "AcXAQBpxZx6W"
      },
      "source": [
        "CODE_SIZE = 256\n",
        "\n",
        "from itertools import count\n",
        "# automatic layer name maker. Don't do this in production :)\n",
        "ix = ('layer_%i'%i for i in count())\n",
        "\n",
        "generator = nn.Sequential(\n",
        "    nn.Linear(CODE_SIZE, 256 * 4 * 4),\n",
        "    Reshape([-1, 256, 4, 4]),\n",
        "    nn.ConvTranspose2d(256, 128, kernel_size=3, stride=2, padding=1, output_padding=1),\n",
        "    nn.LeakyReLU(0.2),\n",
        "    nn.ConvTranspose2d(128, 64, kernel_size=3, stride=2, padding=1, output_padding=1),\n",
        "    nn.LeakyReLU(0.2),\n",
        "    nn.ConvTranspose2d(64, 32, kernel_size=3, stride=2, padding=1, output_padding=1),\n",
        "    nn.LeakyReLU(0.2),\n",
        "    nn.Conv2d(32, 3, kernel_size=3, padding=1),\n",
        "    nn.Tanh()\n",
        ")\n",
        "\n",
        "if use_cuda: generator.cuda()"
      ],
      "execution_count": 5,
      "outputs": []
    },
    {
      "cell_type": "code",
      "metadata": {
        "id": "pPjzH3tqZx6X"
      },
      "source": [
        "generated_data = generator(sample_noise_batch(5)) #5 is the batch size here\n",
        "assert tuple(generated_data.shape)[1:] == IMG_SHAPE, \"generator must output an image of shape %s, but instead it produces %s\" % (IMG_SHAPE,generated_data.shape)"
      ],
      "execution_count": 6,
      "outputs": []
    },
    {
      "cell_type": "code",
      "metadata": {
        "colab": {
          "base_uri": "https://localhost:8080/"
        },
        "id": "y8j22v6dwJmu",
        "outputId": "0584bfa2-d467-44ea-8f39-850abe503798"
      },
      "source": [
        "generated_data.shape"
      ],
      "execution_count": 7,
      "outputs": [
        {
          "output_type": "execute_result",
          "data": {
            "text/plain": [
              "torch.Size([5, 3, 32, 32])"
            ]
          },
          "metadata": {
            "tags": []
          },
          "execution_count": 7
        }
      ]
    },
    {
      "cell_type": "markdown",
      "metadata": {
        "id": "nv8dSK8hZx6a"
      },
      "source": [
        "### Discriminator\n",
        "Discriminator is your usual convolutional network with interlooping convolution and pooling layers\n",
        "\n",
        "The network does not include dropout/batchnorm to avoid learning complications.\n",
        "\n",
        "The convolutional part of the discriminator should mirror the generator (with the exception of the first and the last layers)."
      ]
    },
    {
      "cell_type": "code",
      "metadata": {
        "id": "Mn73CHXEZx6b"
      },
      "source": [
        "def sample_data_batch(batch_size):\n",
        "    idxs = np.random.choice(np.arange(data.shape[0]), size=batch_size)\n",
        "    batch = torch.tensor(data[idxs], dtype=torch.float32)\n",
        "    return batch.cuda() if use_cuda else batch.cpu()\n",
        "\n",
        "# a special module that converts [batch, channel, w, h] to [batch, units]\n",
        "class Flatten(nn.Module):\n",
        "    def forward(self, input):\n",
        "        return input.view(input.shape[0], -1)"
      ],
      "execution_count": 8,
      "outputs": []
    },
    {
      "cell_type": "markdown",
      "metadata": {
        "id": "O9NqVqTYdaMI"
      },
      "source": [
        "## Models"
      ]
    },
    {
      "cell_type": "code",
      "metadata": {
        "id": "aCi4VR6eZx6c"
      },
      "source": [
        "### YOUR CODE - create convolutional architecture for discriminator\n",
        "### Note: please start simple. A few convolutions & poolings would do, inception/resnet is an overkill\n",
        "\n",
        "from torch.nn.utils import spectral_norm\n",
        "batchSize = 50\n",
        "\n",
        "def baseline():\n",
        "\n",
        "    generator = nn.Sequential(\n",
        "        nn.Linear(CODE_SIZE, 256 * 4 * 4),\n",
        "        Reshape([-1, 256, 4, 4]),\n",
        "        nn.ConvTranspose2d(256, 128, kernel_size=3, stride=2, padding=1, output_padding=1),\n",
        "        nn.LeakyReLU(0.2),\n",
        "        nn.ConvTranspose2d(128, 64, kernel_size=3, stride=2, padding=1, output_padding=1),\n",
        "        nn.LeakyReLU(0.2),\n",
        "        nn.ConvTranspose2d(64, 32, kernel_size=3, stride=2, padding=1, output_padding=1),\n",
        "        nn.LeakyReLU(0.2),\n",
        "        nn.Conv2d(32, 3, kernel_size=3, padding=1),\n",
        "        nn.Tanh()\n",
        "    )\n",
        "\n",
        "    discriminator = nn.Sequential(\n",
        "        nn.Conv2d(3, 32, kernel_size=3, padding=1),\n",
        "        nn.MaxPool2d(2),\n",
        "        nn.ConvTranspose2d(32, 64, kernel_size=3, stride=2, padding=1, output_padding=1),\n",
        "        nn.MaxPool2d(2),\n",
        "        nn.LeakyReLU(0.2),\n",
        "        nn.ConvTranspose2d(64, 128, kernel_size=3, stride=2, padding=1, output_padding=1),\n",
        "        nn.MaxPool2d(2),\n",
        "        nn.LeakyReLU(0.2),\n",
        "        nn.ConvTranspose2d(128, 256, kernel_size=3, stride=2, padding=1, output_padding=1),\n",
        "        nn.MaxPool2d(2),\n",
        "        nn.LeakyReLU(0.2),\n",
        "        Reshape([batchSize, 256*16*16]),\n",
        "        nn.Linear(256*16*16, 1), \n",
        "        #nn.Sigmoid(),\n",
        "    )\n",
        "\n",
        "    if use_cuda: discriminator.cuda()\n",
        "    if use_cuda: generator.cuda()\n",
        "\n",
        "    return generator, discriminator\n",
        "\n",
        "def spectralNorm():\n",
        "\n",
        "    generator = nn.Sequential(\n",
        "        spectral_norm(nn.Linear(CODE_SIZE, 256 * 4 * 4)),\n",
        "        Reshape([-1, 256, 4, 4]),\n",
        "        spectral_norm(nn.ConvTranspose2d(256, 128, kernel_size=3, stride=2, padding=1, output_padding=1)),\n",
        "        nn.LeakyReLU(0.2),\n",
        "        spectral_norm(nn.ConvTranspose2d(128, 64, kernel_size=3, stride=2, padding=1, output_padding=1)),\n",
        "        nn.LeakyReLU(0.2),\n",
        "        spectral_norm(nn.ConvTranspose2d(64, 32, kernel_size=3, stride=2, padding=1, output_padding=1)),\n",
        "        nn.LeakyReLU(0.2),\n",
        "        spectral_norm(nn.Conv2d(32, 3, kernel_size=3, padding=1)),\n",
        "        nn.Tanh(),\n",
        "    )\n",
        "\n",
        "    discriminator = nn.Sequential(\n",
        "        spectral_norm(nn.Conv2d(3, 32, kernel_size=3, padding=1)),\n",
        "        nn.MaxPool2d(2),\n",
        "        spectral_norm(nn.ConvTranspose2d(32, 64, kernel_size=3, stride=2, padding=1, output_padding=1)),\n",
        "        nn.MaxPool2d(2),\n",
        "        nn.LeakyReLU(0.2),\n",
        "        spectral_norm(nn.ConvTranspose2d(64, 128, kernel_size=3, stride=2, padding=1, output_padding=1)),\n",
        "        nn.MaxPool2d(2),\n",
        "        nn.LeakyReLU(0.2),\n",
        "        spectral_norm(nn.ConvTranspose2d(128, 256, kernel_size=3, stride=2, padding=1, output_padding=1)),\n",
        "        nn.MaxPool2d(2),\n",
        "        nn.LeakyReLU(0.2),\n",
        "        Reshape([batchSize, 256*16*16]),\n",
        "        spectral_norm(nn.Linear(256*16*16, 1)), \n",
        "        #nn.Sigmoid(),\n",
        "    )\n",
        "\n",
        "    if use_cuda: discriminator.cuda()\n",
        "    if use_cuda: generator.cuda()\n",
        "\n",
        "    return generator, discriminator\n",
        "\n",
        "def baseline_batchnorm():\n",
        "\n",
        "    generator = nn.Sequential(\n",
        "        nn.Linear(CODE_SIZE, 256 * 4 * 4),\n",
        "        Reshape([-1, 256, 4, 4]),\n",
        "        nn.ConvTranspose2d(256, 128, kernel_size=3, stride=2, padding=1, output_padding=1),\n",
        "        nn.BatchNorm2d(128),\n",
        "        nn.LeakyReLU(0.2),\n",
        "        nn.ConvTranspose2d(128, 64, kernel_size=3, stride=2, padding=1, output_padding=1),\n",
        "        nn.BatchNorm2d(64),\n",
        "        nn.LeakyReLU(0.2),\n",
        "        nn.ConvTranspose2d(64, 32, kernel_size=3, stride=2, padding=1, output_padding=1),\n",
        "        nn.BatchNorm2d(32),\n",
        "        nn.LeakyReLU(0.2),\n",
        "        nn.Conv2d(32, 3, kernel_size=3, padding=1),\n",
        "        nn.BatchNorm2d(3),\n",
        "        nn.Tanh()\n",
        "    )\n",
        "\n",
        "    discriminator = nn.Sequential(\n",
        "        nn.Conv2d(3, 32, kernel_size=3, padding=1),\n",
        "        nn.BatchNorm2d(32),\n",
        "        nn.MaxPool2d(2),\n",
        "        nn.ConvTranspose2d(32, 64, kernel_size=3, stride=2, padding=1, output_padding=1),\n",
        "        nn.BatchNorm2d(64),\n",
        "        nn.MaxPool2d(2),\n",
        "        nn.LeakyReLU(0.2),\n",
        "        nn.ConvTranspose2d(64, 128, kernel_size=3, stride=2, padding=1, output_padding=1),\n",
        "        nn.BatchNorm2d(128),\n",
        "        nn.MaxPool2d(2),\n",
        "        nn.LeakyReLU(0.2),\n",
        "        nn.ConvTranspose2d(128, 256, kernel_size=3, stride=2, padding=1, output_padding=1),\n",
        "        nn.BatchNorm2d(256),\n",
        "        nn.MaxPool2d(2),\n",
        "        nn.LeakyReLU(0.2),\n",
        "        Reshape([batchSize, 256*16*16]),\n",
        "        nn.Linear(256*16*16, 1), \n",
        "        #nn.Sigmoid(),\n",
        "    )\n",
        "\n",
        "    if use_cuda: discriminator.cuda()\n",
        "    if use_cuda: generator.cuda()\n",
        "\n",
        "    return generator, discriminator\n",
        "\n",
        "def spectralNorm_batchnorm():\n",
        "\n",
        "    generator = nn.Sequential(\n",
        "        spectral_norm(nn.Linear(CODE_SIZE, 256 * 4 * 4)),\n",
        "        Reshape([-1, 256, 4, 4]),\n",
        "        spectral_norm(nn.ConvTranspose2d(256, 128, kernel_size=3, stride=2, padding=1, output_padding=1)),\n",
        "        nn.BatchNorm2d(128),\n",
        "        nn.LeakyReLU(0.2),\n",
        "        spectral_norm(nn.ConvTranspose2d(128, 64, kernel_size=3, stride=2, padding=1, output_padding=1)),\n",
        "        nn.BatchNorm2d(64),\n",
        "        nn.LeakyReLU(0.2),\n",
        "        spectral_norm(nn.ConvTranspose2d(64, 32, kernel_size=3, stride=2, padding=1, output_padding=1)),\n",
        "        nn.BatchNorm2d(32),\n",
        "        nn.LeakyReLU(0.2),\n",
        "        spectral_norm(nn.Conv2d(32, 3, kernel_size=3, padding=1)),\n",
        "        nn.BatchNorm2d(3),\n",
        "        nn.Tanh(),\n",
        "    )\n",
        "\n",
        "    discriminator = nn.Sequential(\n",
        "        spectral_norm(nn.Conv2d(3, 32, kernel_size=3, padding=1)),\n",
        "        nn.BatchNorm2d(32),\n",
        "        nn.MaxPool2d(2),\n",
        "        spectral_norm(nn.ConvTranspose2d(32, 64, kernel_size=3, stride=2, padding=1, output_padding=1)),\n",
        "        nn.BatchNorm2d(64),\n",
        "        nn.MaxPool2d(2),\n",
        "        nn.LeakyReLU(0.2),\n",
        "        spectral_norm(nn.ConvTranspose2d(64, 128, kernel_size=3, stride=2, padding=1, output_padding=1)),\n",
        "        nn.BatchNorm2d(128),\n",
        "        nn.MaxPool2d(2),\n",
        "        nn.LeakyReLU(0.2),\n",
        "        spectral_norm(nn.ConvTranspose2d(128, 256, kernel_size=3, stride=2, padding=1, output_padding=1)),\n",
        "        nn.BatchNorm2d(256),\n",
        "        nn.MaxPool2d(2),\n",
        "        nn.LeakyReLU(0.2),\n",
        "        Reshape([batchSize, 256*16*16]),\n",
        "        spectral_norm(nn.Linear(256*16*16, 1)), \n",
        "        #nn.Sigmoid(),\n",
        "    )\n",
        "\n",
        "    if use_cuda: discriminator.cuda()\n",
        "    if use_cuda: generator.cuda()\n",
        "\n",
        "    return generator, discriminator"
      ],
      "execution_count": 9,
      "outputs": []
    },
    {
      "cell_type": "code",
      "metadata": {
        "id": "8JZdfAWQz_jY"
      },
      "source": [
        "# YOUR TRAINING CODE HERE"
      ],
      "execution_count": 10,
      "outputs": []
    },
    {
      "cell_type": "markdown",
      "metadata": {
        "id": "wP-aUFAWdVZt"
      },
      "source": [
        "## Losses; gradient penalty"
      ]
    },
    {
      "cell_type": "code",
      "metadata": {
        "id": "3W7cyKq8O2N0"
      },
      "source": [
        "# This loss did not work out for me (used with a sigmoid on the output of the discriminator)\n",
        "# def generatorLoss (z):\n",
        "#     return -discriminator(generator(z)).sum()\n",
        "\n",
        "# def discriminatorLoss (realX, z):\n",
        "#     return ((1 - discriminator(realX)) + discriminator(generator(z))).sum()\n",
        "\n",
        "def generatorLoss (z):\n",
        "    return -discriminator(generator(z)).mean()\n",
        "\n",
        "def discriminatorLoss (realX, z):\n",
        "    realPart = (torch.clamp(1 - discriminator(realX), min=0)).mean()\n",
        "    fakePart = (torch.clamp (1 + discriminator(generator(z)), min=0)).mean()\n",
        "    return realPart + fakePart"
      ],
      "execution_count": 11,
      "outputs": []
    },
    {
      "cell_type": "code",
      "metadata": {
        "id": "9SKrGkBIHsao"
      },
      "source": [
        "#gradient penalty \n",
        "from torch.autograd import Variable\n",
        "\n",
        "def gradPenalty (realX, z):\n",
        "\n",
        "    realX = Variable(realX, requires_grad=True)\n",
        "    z = Variable(z, requires_grad=True)\n",
        "\n",
        "    fakeInput = generator(z)\n",
        "\n",
        "    outTrue = discriminator(realX)\n",
        "    outFake = discriminator(fakeInput)\n",
        "\n",
        "    gradientsTrue = torch.autograd.grad(outputs=outTrue, inputs=realX, grad_outputs=torch.ones(outTrue.size()).cuda(), retain_graph=True)[0]\n",
        "    gradientsTrue = gradientsTrue.reshape(50, -1) #flattening every sample in the batch\n",
        "    gradientsFake = torch.autograd.grad(outputs=outFake, inputs=fakeInput, grad_outputs=torch.ones(outFake.size()).cuda(), retain_graph=True)[0]\n",
        "    gradientsFake = gradientsFake.reshape(50, -1) #flattening every sample in the batch\n",
        "\n",
        "    gradientsTrue_norm = torch.sqrt(torch.sum(gradientsTrue**2, dim=1))\n",
        "    gradientsFake_norm = torch.sqrt(torch.sum(gradientsFake**2, dim=1))\n",
        "\n",
        "    norm = 10* (((gradientsTrue_norm -1 )**2).mean() + ((gradientsFake_norm -1 )**2).mean())\n",
        "    return norm"
      ],
      "execution_count": 12,
      "outputs": []
    },
    {
      "cell_type": "markdown",
      "metadata": {
        "id": "AWoDTX80dS15"
      },
      "source": [
        "## Training"
      ]
    },
    {
      "cell_type": "code",
      "metadata": {
        "colab": {
          "base_uri": "https://localhost:8080/"
        },
        "id": "H9rRY0eCc1lL",
        "outputId": "75a97a96-465a-4511-a83d-d8512376401f"
      },
      "source": [
        "from google.colab import drive\n",
        "drive.mount('/content/drive')"
      ],
      "execution_count": 13,
      "outputs": [
        {
          "output_type": "stream",
          "text": [
            "Mounted at /content/drive\n"
          ],
          "name": "stdout"
        }
      ]
    },
    {
      "cell_type": "code",
      "metadata": {
        "colab": {
          "base_uri": "https://localhost:8080/",
          "height": 672
        },
        "id": "7aTo5RVkdx4T",
        "outputId": "c39407fd-30e5-42f5-c8db-836e0e2584f2"
      },
      "source": [
        "import os\n",
        "from torch import optim\n",
        "# batchSize was set to 50 in the cell with discriminator\n",
        "\n",
        "# for j in range(6):\n",
        "# collab interrupted on j=2\n",
        "for j in range(6):\n",
        "\n",
        "    if (j==0):\n",
        "        expName = 'baseline'\n",
        "        FLAG_gradPenalty=0\n",
        "        FLAG_specnorm=0\n",
        "        FLAG_baseline=1 #just to check (no use)\n",
        "        generator, discriminator = baseline()\n",
        "        N = 8000\n",
        "    elif (j==1):\n",
        "        expName = 'spectralNorm'\n",
        "        FLAG_gradPenalty=0\n",
        "        FLAG_specnorm=1\n",
        "        FLAG_baseline=0 #just to check (no use)\n",
        "        generator, discriminator = spectralNorm()\n",
        "        N = 8000\n",
        "    elif (j==2):\n",
        "        expName = 'GP'\n",
        "        FLAG_gradPenalty=1\n",
        "        FLAG_specnorm=0\n",
        "        FLAG_baseline=0 #just to check (no use)\n",
        "        generator, discriminator = baseline()\n",
        "        N = 8000\n",
        "        #collab interrupted here\n",
        "    elif (j==3):\n",
        "        expName = 'baseline_BN'\n",
        "        FLAG_gradPenalty=0\n",
        "        FLAG_specnorm=0\n",
        "        FLAG_baseline=1 #just to check (no use)\n",
        "        generator, discriminator = baseline_batchnorm()\n",
        "        N = 4000\n",
        "    elif (j==4):\n",
        "        expName = 'spectralNorm_BN'\n",
        "        FLAG_gradPenalty=0\n",
        "        FLAG_specnorm=1\n",
        "        FLAG_baseline=0 #just to check (no use)\n",
        "        generator, discriminator = spectralNorm_batchnorm()\n",
        "        N = 4000\n",
        "    elif (j==5):\n",
        "        expName = 'GP_BN'\n",
        "        FLAG_gradPenalty=1\n",
        "        FLAG_specnorm=0\n",
        "        FLAG_baseline=0 #just to check (no use)\n",
        "        generator, discriminator = baseline_batchnorm()\n",
        "        N = 4000\n",
        "\n",
        "    directory = '/content/drive/My Drive/DL20_HW3/' + expName\n",
        "    if not os.path.exists(directory):\n",
        "        os.mkdir(directory)\n",
        "\n",
        "    count = 0\n",
        "    lr = 1e-4\n",
        "    if FLAG_specnorm: lr = 4e-4\n",
        "    optimizerG = optim.Adam(generator.parameters(), lr=lr, betas=(0,0.999)) #beta2 set to default \n",
        "    optimizerD = optim.Adam(discriminator.parameters(), lr=lr, betas=(0,0.999)) #beta2 set to default \n",
        "\n",
        "    GLosses = []\n",
        "    DLOsses = []\n",
        "    while count < N:\n",
        "        count += 1\n",
        "        realX = sample_data_batch(50)\n",
        "        z = sample_noise_batch(50)\n",
        "\n",
        "        optimizerG.zero_grad()\n",
        "        GLoss = generatorLoss (z)\n",
        "        GLoss.backward()\n",
        "        optimizerG.step()\n",
        "        GLosses.append(GLoss.detach().cpu().item())\n",
        "\n",
        "        for i in range (5):\n",
        "            optimizerD.zero_grad()\n",
        "            if FLAG_gradPenalty:\n",
        "                DLoss = discriminatorLoss (realX, z) + gradPenalty (realX, z)\n",
        "            else:\n",
        "                DLoss = discriminatorLoss (realX, z)\n",
        "            DLoss.backward()\n",
        "            optimizerD.step()\n",
        "            if i==4:\n",
        "                DLOsses.append(DLoss.detach().cpu().item())\n",
        "\n",
        "        if count%200==0:\n",
        "            out = expName + '; iteration: ' + str(count) \n",
        "            print(out)\n",
        "            z = sample_noise_batch(2)\n",
        "            val_gen = generator(z).data.cpu().numpy()\n",
        "            plt.imshow(((val_gen[0] + 1) / 2.0).transpose([1, 2, 0]),\n",
        "              cmap=\"gray\", interpolation=\"none\")\n",
        "            plt.show()\n",
        "\n",
        "            model_save_name = expName + '/' + str(count)\n",
        "            path = F\"/content/drive/My Drive/DL20_HW3/{model_save_name}\" \n",
        "            torch.save(generator, path)\n",
        "\n",
        "            model_save_name = expName + '_D'\n",
        "            path = F\"/content/drive/My Drive/DL20_HW3/{model_save_name}\" \n",
        "            np.save(path, DLOsses)\n",
        "\n",
        "            model_save_name = expName + '_G'\n",
        "            path = F\"/content/drive/My Drive/DL20_HW3/{model_save_name}\" \n",
        "            np.save(path, GLosses)"
      ],
      "execution_count": null,
      "outputs": [
        {
          "output_type": "stream",
          "text": [
            "baseline; iteration: 200\n"
          ],
          "name": "stdout"
        },
        {
          "output_type": "display_data",
          "data": {
            "image/png": "[encoded data removed]",
            "text/plain": [
              "<Figure size 432x288 with 1 Axes>"
            ]
          },
          "metadata": {
            "tags": [],
            "needs_background": "light"
          }
        },
        {
          "output_type": "error",
          "ename": "KeyboardInterrupt",
          "evalue": "ignored",
          "traceback": [
            "\u001b[0;31m---------------------------------------------------------------------------\u001b[0m",
            "\u001b[0;31mKeyboardInterrupt\u001b[0m                         Traceback (most recent call last)",
            "\u001b[0;32m<ipython-input-20-bc494913568e>\u001b[0m in \u001b[0;36m<module>\u001b[0;34m()\u001b[0m\n\u001b[1;32m     80\u001b[0m             \u001b[0;32melse\u001b[0m\u001b[0;34m:\u001b[0m\u001b[0;34m\u001b[0m\u001b[0;34m\u001b[0m\u001b[0m\n\u001b[1;32m     81\u001b[0m                 \u001b[0mDLoss\u001b[0m \u001b[0;34m=\u001b[0m \u001b[0mdiscriminatorLoss\u001b[0m \u001b[0;34m(\u001b[0m\u001b[0mrealX\u001b[0m\u001b[0;34m,\u001b[0m \u001b[0mz\u001b[0m\u001b[0;34m)\u001b[0m\u001b[0;34m\u001b[0m\u001b[0;34m\u001b[0m\u001b[0m\n\u001b[0;32m---> 82\u001b[0;31m             \u001b[0mDLoss\u001b[0m\u001b[0;34m.\u001b[0m\u001b[0mbackward\u001b[0m\u001b[0;34m(\u001b[0m\u001b[0;34m)\u001b[0m\u001b[0;34m\u001b[0m\u001b[0;34m\u001b[0m\u001b[0m\n\u001b[0m\u001b[1;32m     83\u001b[0m             \u001b[0moptimizerD\u001b[0m\u001b[0;34m.\u001b[0m\u001b[0mstep\u001b[0m\u001b[0;34m(\u001b[0m\u001b[0;34m)\u001b[0m\u001b[0;34m\u001b[0m\u001b[0;34m\u001b[0m\u001b[0m\n\u001b[1;32m     84\u001b[0m             \u001b[0;32mif\u001b[0m \u001b[0mi\u001b[0m\u001b[0;34m==\u001b[0m\u001b[0;36m4\u001b[0m\u001b[0;34m:\u001b[0m\u001b[0;34m\u001b[0m\u001b[0;34m\u001b[0m\u001b[0m\n",
            "\u001b[0;32m/usr/local/lib/python3.6/dist-packages/torch/tensor.py\u001b[0m in \u001b[0;36mbackward\u001b[0;34m(self, gradient, retain_graph, create_graph)\u001b[0m\n\u001b[1;32m    219\u001b[0m                 \u001b[0mretain_graph\u001b[0m\u001b[0;34m=\u001b[0m\u001b[0mretain_graph\u001b[0m\u001b[0;34m,\u001b[0m\u001b[0;34m\u001b[0m\u001b[0;34m\u001b[0m\u001b[0m\n\u001b[1;32m    220\u001b[0m                 create_graph=create_graph)\n\u001b[0;32m--> 221\u001b[0;31m         \u001b[0mtorch\u001b[0m\u001b[0;34m.\u001b[0m\u001b[0mautograd\u001b[0m\u001b[0;34m.\u001b[0m\u001b[0mbackward\u001b[0m\u001b[0;34m(\u001b[0m\u001b[0mself\u001b[0m\u001b[0;34m,\u001b[0m \u001b[0mgradient\u001b[0m\u001b[0;34m,\u001b[0m \u001b[0mretain_graph\u001b[0m\u001b[0;34m,\u001b[0m \u001b[0mcreate_graph\u001b[0m\u001b[0;34m)\u001b[0m\u001b[0;34m\u001b[0m\u001b[0;34m\u001b[0m\u001b[0m\n\u001b[0m\u001b[1;32m    222\u001b[0m \u001b[0;34m\u001b[0m\u001b[0m\n\u001b[1;32m    223\u001b[0m     \u001b[0;32mdef\u001b[0m \u001b[0mregister_hook\u001b[0m\u001b[0;34m(\u001b[0m\u001b[0mself\u001b[0m\u001b[0;34m,\u001b[0m \u001b[0mhook\u001b[0m\u001b[0;34m)\u001b[0m\u001b[0;34m:\u001b[0m\u001b[0;34m\u001b[0m\u001b[0;34m\u001b[0m\u001b[0m\n",
            "\u001b[0;32m/usr/local/lib/python3.6/dist-packages/torch/autograd/__init__.py\u001b[0m in \u001b[0;36mbackward\u001b[0;34m(tensors, grad_tensors, retain_graph, create_graph, grad_variables)\u001b[0m\n\u001b[1;32m    130\u001b[0m     Variable._execution_engine.run_backward(\n\u001b[1;32m    131\u001b[0m         \u001b[0mtensors\u001b[0m\u001b[0;34m,\u001b[0m \u001b[0mgrad_tensors_\u001b[0m\u001b[0;34m,\u001b[0m \u001b[0mretain_graph\u001b[0m\u001b[0;34m,\u001b[0m \u001b[0mcreate_graph\u001b[0m\u001b[0;34m,\u001b[0m\u001b[0;34m\u001b[0m\u001b[0;34m\u001b[0m\u001b[0m\n\u001b[0;32m--> 132\u001b[0;31m         allow_unreachable=True)  # allow_unreachable flag\n\u001b[0m\u001b[1;32m    133\u001b[0m \u001b[0;34m\u001b[0m\u001b[0m\n\u001b[1;32m    134\u001b[0m \u001b[0;34m\u001b[0m\u001b[0m\n",
            "\u001b[0;31mKeyboardInterrupt\u001b[0m: "
          ]
        }
      ]
    },
    {
      "cell_type": "markdown",
      "metadata": {
        "id": "e1kU9Pejc-nY"
      },
      "source": [
        "## Comparison of different approches "
      ]
    },
    {
      "cell_type": "code",
      "metadata": {
        "id": "QTPpd3_XdyR_"
      },
      "source": [
        "def plot_gallery(images, h, w, n_row=6, n_col=6):\n",
        "    \"\"\"Helper function to plot a gallery of portraits\"\"\"\n",
        "    plt.figure(figsize=(1.5 * n_col, 1.7 * n_row))\n",
        "    plt.subplots_adjust(bottom=0, left=.01, right=.99, top=.90, hspace=.35)\n",
        "    for i in range(n_row * n_col):\n",
        "        plt.subplot(n_row, n_col, i + 1)\n",
        "        plt.imshow(((images[i] + 1) / 2.0).transpose([1, 2, 0]),\n",
        "    cmap=\"gray\", interpolation=\"none\")\n",
        "        plt.xticks(())\n",
        "        plt.yticks(())\n",
        "    plt.show()"
      ],
      "execution_count": 187,
      "outputs": []
    },
    {
      "cell_type": "code",
      "metadata": {
        "colab": {
          "base_uri": "https://localhost:8080/",
          "height": 767
        },
        "id": "VXvBpaLoQtTK",
        "outputId": "f73ab030-bfb7-481a-96f9-53200f6cdc03"
      },
      "source": [
        "models = ['baseline', 'spectralNorm', 'GP', 'baseline_BN', 'spectralNorm_BN', 'GP_BN']\n",
        "\n",
        "for i, model in enumerate(models):\n",
        "\n",
        "    # print(i)\n",
        "    # print(model)\n",
        "\n",
        "    if (i<3): N=8000\n",
        "    else: N=4000\n",
        "\n",
        "    model_save_name = model + '/' + str(N)\n",
        "    path = F\"/content/drive/My Drive/test_dir/{model_save_name}\" \n",
        "    net = torch.load(path, map_location='cpu')\n",
        "    net = net.cuda()\n",
        "    if(i>2): net.eval()\n",
        "\n",
        "    print(model_save_name + ' itearations')\n",
        "    z = sample_noise_batch(6)\n",
        "    val_gen = net(z).data.cpu().numpy()\n",
        "    plot_gallery(val_gen, 32, 32, n_row=1, n_col=6)"
      ],
      "execution_count": 188,
      "outputs": [
        {
          "output_type": "stream",
          "text": [
            "baseline/8000 itearations\n"
          ],
          "name": "stdout"
        },
        {
          "output_type": "display_data",
          "data": {
            "image/png": "[encoded data removed]",
            "text/plain": [
              "<Figure size 648x122.4 with 6 Axes>"
            ]
          },
          "metadata": {
            "tags": []
          }
        },
        {
          "output_type": "stream",
          "text": [
            "spectralNorm/8000 itearations\n"
          ],
          "name": "stdout"
        },
        {
          "output_type": "display_data",
          "data": {
            "image/png": "[encoded data removed]",
            "text/plain": [
              "<Figure size 648x122.4 with 6 Axes>"
            ]
          },
          "metadata": {
            "tags": []
          }
        },
        {
          "output_type": "stream",
          "text": [
            "GP/8000 itearations\n"
          ],
          "name": "stdout"
        },
        {
          "output_type": "display_data",
          "data": {
            "image/png": "[encoded data removed]",
            "text/plain": [
              "<Figure size 648x122.4 with 6 Axes>"
            ]
          },
          "metadata": {
            "tags": []
          }
        },
        {
          "output_type": "stream",
          "text": [
            "baseline_BN/4000 itearations\n"
          ],
          "name": "stdout"
        },
        {
          "output_type": "display_data",
          "data": {
            "image/png": "[encoded data removed]",
            "text/plain": [
              "<Figure size 648x122.4 with 6 Axes>"
            ]
          },
          "metadata": {
            "tags": []
          }
        },
        {
          "output_type": "stream",
          "text": [
            "spectralNorm_BN/4000 itearations\n"
          ],
          "name": "stdout"
        },
        {
          "output_type": "display_data",
          "data": {
            "image/png": "[encoded data removed]",
            "text/plain": [
              "<Figure size 648x122.4 with 6 Axes>"
            ]
          },
          "metadata": {
            "tags": []
          }
        },
        {
          "output_type": "stream",
          "text": [
            "GP_BN/4000 itearations\n"
          ],
          "name": "stdout"
        },
        {
          "output_type": "display_data",
          "data": {
            "image/png": "[encoded data removed]",
            "text/plain": [
              "<Figure size 648x122.4 with 6 Axes>"
            ]
          },
          "metadata": {
            "tags": []
          }
        }
      ]
    },
    {
      "cell_type": "markdown",
      "metadata": {
        "id": "7jh52IjiwW4D"
      },
      "source": [
        "## MMD experiments"
      ]
    },
    {
      "cell_type": "code",
      "metadata": {
        "id": "502N3kfC1t56"
      },
      "source": [
        "from mmd import MMD_3_Sample_Test\n",
        "from tqdm.notebook import tqdm"
      ],
      "execution_count": 170,
      "outputs": []
    },
    {
      "cell_type": "code",
      "metadata": {
        "colab": {
          "base_uri": "https://localhost:8080/",
          "height": 49,
          "referenced_widgets": [
            "60516ea765fb425583b31ddd9c08fe30",
            "f1eb7b7710b448b680bed96953a1e22e",
            "6d91553830144c59a23502a5482d798b",
            "7c375c5904ca4c509f02c18157c62542",
            "cfae4890c0114ea3bd33a8d571af5cac",
            "c02ab5dee090434cb568c67e59df095b",
            "43c36b0841114bf29df32d9928cac239",
            "abe725b8fcfd459d948b31d30ef6ee39"
          ]
        },
        "id": "M9T6T8TBwYxV",
        "outputId": "61d5b78f-4070-4f77-b597-a0219d6bcea5"
      },
      "source": [
        "models = ['baseline', 'spectralNorm', 'GP', 'baseline_BN', 'spectralNorm_BN', 'GP_BN']\n",
        "N_samples = 1000\n",
        "\n",
        "p_vals = []\n",
        "\n",
        "\n",
        "for i in tqdm(range(100)):\n",
        "\n",
        "    N_epoch = 8000\n",
        "    model = models[0]\n",
        "    model_save_name = model + '/' + str(N_epoch)\n",
        "    path = F\"/content/drive/My Drive/test_dir/{model_save_name}\" \n",
        "    net = torch.load(path, map_location='cpu')\n",
        "    net = net.cuda()\n",
        "    net.eval();\n",
        "\n",
        "    z = sample_noise_batch(N_samples)\n",
        "    baseline_gen = net(z).data.cpu().numpy().mean(axis=1).reshape((N_samples, -1))\n",
        "    #baseline_gen = np.tensordot(baseline_gen, [0.299, 0.587, 0.114],axes=([1],[0])).reshape((N_samples, -1))\n",
        "\n",
        "    N_epoch = 4000\n",
        "    model = models[3]\n",
        "    model_save_name = model + '/' + str(N_epoch)\n",
        "    path = F\"/content/drive/My Drive/test_dir/{model_save_name}\" \n",
        "    net = torch.load(path, map_location='cpu')\n",
        "    net = net.cuda()\n",
        "    net.eval();\n",
        "\n",
        "    z = sample_noise_batch(N_samples)\n",
        "    baseline_bn_gen = net(z).data.cpu().numpy().mean(axis=1).reshape((N_samples, -1))\n",
        "    #baseline_bn_gen = np.tensordot(baseline_bn_gen, [0.299, 0.587, 0.114],axes=([1],[0])).reshape((N_samples, -1))\n",
        "\n",
        "    samples_init = []\n",
        "    for i in range(N_samples):\n",
        "      samples_init.append (data[np.random.randint(data.shape[0])])\n",
        "    samples_init = np.array(samples_init).mean(axis=1).reshape((N_samples, -1))\n",
        "    #samples_init = np.tensordot(samples_init, [0.299, 0.587, 0.114],axes=([1],[0])).reshape((N_samples, -1))\n",
        "\n",
        "    p_vals.append (MMD_3_Sample_Test (samples_init, baseline_bn_gen, baseline_gen)[0])"
      ],
      "execution_count": null,
      "outputs": [
        {
          "output_type": "display_data",
          "data": {
            "application/vnd.jupyter.widget-view+json": {
              "model_id": "60516ea765fb425583b31ddd9c08fe30",
              "version_minor": 0,
              "version_major": 2
            },
            "text/plain": [
              "HBox(children=(FloatProgress(value=0.0), HTML(value='')))"
            ]
          },
          "metadata": {
            "tags": []
          }
        }
      ]
    },
    {
      "cell_type": "code",
      "metadata": {
        "colab": {
          "base_uri": "https://localhost:8080/",
          "height": 316
        },
        "id": "mPOtAHRHDhV3",
        "outputId": "7d7a4d85-6ecb-4cb5-984b-2078ff3233c6"
      },
      "source": [
        "plt.hist(p_vals)\n",
        "plt.xlabel('p_value')\n",
        "plt.title('H0: gan with batch norm (4000 itearations) \\n is better than w/o batch norm (8000 itearations)', size=15)\n",
        "plt.show()"
      ],
      "execution_count": 201,
      "outputs": [
        {
          "output_type": "display_data",
          "data": {
            "image/png": "[encoded data removed]",
            "text/plain": [
              "<Figure size 432x288 with 1 Axes>"
            ]
          },
          "metadata": {
            "tags": [],
            "needs_background": "light"
          }
        }
      ]
    },
    {
      "cell_type": "code",
      "metadata": {
        "colab": {
          "base_uri": "https://localhost:8080/",
          "height": 142
        },
        "id": "tFpJLq8MEDJM",
        "outputId": "6cbdbbec-34d5-4797-92aa-e9c6af38397d"
      },
      "source": [
        "samples_init = []\n",
        "for i in range(6):\n",
        "  samples_init.append (data[np.random.randint(data.shape[0])])\n",
        "samples_init = np.array(samples_init)\n",
        "print('Normal guys')\n",
        "plot_gallery(samples_init, 32, 32, n_row=1, n_col=6)"
      ],
      "execution_count": 190,
      "outputs": [
        {
          "output_type": "stream",
          "text": [
            "Normal guys\n"
          ],
          "name": "stdout"
        },
        {
          "output_type": "display_data",
          "data": {
            "image/png": "[encoded data removed]",
            "text/plain": [
              "<Figure size 648x122.4 with 6 Axes>"
            ]
          },
          "metadata": {
            "tags": []
          }
        }
      ]
    },
    {
      "cell_type": "code",
      "metadata": {
        "colab": {
          "base_uri": "https://localhost:8080/"
        },
        "id": "IpKbqBkqF-k-",
        "outputId": "f268d668-d3d0-4747-c98b-16c620de4e9c"
      },
      "source": [
        "data.shape"
      ],
      "execution_count": 186,
      "outputs": [
        {
          "output_type": "execute_result",
          "data": {
            "text/plain": [
              "(13143, 3, 32, 32)"
            ]
          },
          "metadata": {
            "tags": []
          },
          "execution_count": 186
        }
      ]
    },
    {
      "cell_type": "code",
      "metadata": {
        "id": "k6oToh_jGkxB"
      },
      "source": [
        ""
      ],
      "execution_count": null,
      "outputs": []
    }
  ]
}